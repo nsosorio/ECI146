{
 "cells": [
  {
   "cell_type": "markdown",
   "metadata": {},
   "source": [
    "# ECI 146 CP 1 Python Code Examples\n",
    "By Nicole Osorio\n",
    "nsosorio@ucdavis.edu"
   ]
  },
  {
   "cell_type": "code",
   "execution_count": 1,
   "metadata": {},
   "outputs": [],
   "source": [
    "# Some libraries we add for more python features\n",
    "import math\n",
    "import numpy as np\n"
   ]
  },
  {
   "cell_type": "markdown",
   "metadata": {},
   "source": [
    "## 3.1. Bisection Method"
   ]
  },
  {
   "cell_type": "code",
   "execution_count": 2,
   "metadata": {},
   "outputs": [
    {
     "name": "stdout",
     "output_type": "stream",
     "text": [
      "# 1 - Friction factor: 0.018595, Iterations: 16, Reynolds Number: 3.00e+06, relative roughness: 0.0008.\n",
      "# 2 - Friction factor: 0.010546, Iterations: 17, Reynolds Number: 3.00e+06, relative roughness: 5e-05.\n",
      "# 3 - Friction factor: 0.099995, Iterations: 14, Reynolds Number: 3.00e+07, relative roughness: 1e-05.\n",
      "# 4 - Friction factor: 0.023399, Iterations: 16, Reynolds Number: 3.00e+07, relative roughness: 0.002.\n",
      "# 5 - Friction factor: 0.043648, Iterations: 15, Reynolds Number: 3.00e+07, relative roughness: 0.015.\n",
      "# 6 - Friction factor: 0.023413, Iterations: 16, Reynolds Number: 3.00e+05, relative roughness: 0.002.\n",
      "# 7 - Friction factor: 0.057126, Iterations: 14, Reynolds Number: 3.00e+05, relative roughness: 0.03.\n",
      "# 8 - Friction factor: 0.023545, Iterations: 16, Reynolds Number: 3.00e+04, relative roughness: 0.002.\n",
      "# 9 - Friction factor: 0.037946, Iterations: 15, Reynolds Number: 3.00e+04, relative roughness: 0.01.\n",
      "# 10 - Friction factor: 0.099995, Iterations: 14, Reynolds Number: 3.00e+05, relative roughness: 1e-09.\n",
      "# 11 - Friction factor: 0.031173, Iterations: 15, Reynolds Number: 3.00e+02, relative roughness: 1e-09.\n"
     ]
    }
   ],
   "source": [
    "R_list = np.array([3e6, 3e6, 3e7, 3e7, 3e7, 3e5, 3e5, 3e4, 3e4, 3e5, 3e2])\n",
    "rr_list = np.array([0.0008, .00005, .00001,.002,.015, .002, .03, .002, .01, 10e-10, 10e-10])\n",
    "point = 0\n",
    "for i, j in np.nditer([R_list, rr_list]):\n",
    "    ea = 1\n",
    "    tolerance = 1e-2\n",
    "    iter = 0\n",
    "    max_iter = 10000\n",
    "    xa = 0.01\n",
    "    xc = 0.1\n",
    "    while ea > tolerance:\n",
    "        def bisection_method(x):\n",
    "            return 1/(x**(1/2))+0.869*math.log(((j/3.7))+2.51/i*(x)**(1/2))\n",
    "        Fxa = bisection_method(xa)\n",
    "        Fxc = bisection_method(xc)\n",
    "        iter = iter + 1\n",
    "        xb = (xa+xc)/2\n",
    "        Fxb = bisection_method(xb)\n",
    "\n",
    "        if Fxa*Fxb < 0:\n",
    "            xold = xa\n",
    "            xc = xb\n",
    "\n",
    "        else:\n",
    "            xold = xa\n",
    "            xa = xb\n",
    "\n",
    "        ea = abs((xb-xold)/xb)*100\n",
    "    point = point + 1\n",
    "    string2 = '# {} - Friction factor: {}, Iterations: {}, Reynolds Number: {:.2e}, relative roughness: {}.'.format(point, round(xb,6), iter, i,j)\n",
    "    print(string2)"
   ]
  },
  {
   "cell_type": "markdown",
   "metadata": {},
   "source": [
    "## 3.3. Fixed Point Method.\n",
    "For the first five points only.\n",
    "Determines number of iterations needed to achieve convergence of 10**-2."
   ]
  },
  {
   "cell_type": "code",
   "execution_count": 3,
   "metadata": {},
   "outputs": [
    {
     "name": "stdout",
     "output_type": "stream",
     "text": [
      "# 1 - Friction factor: 0.018717, Iterations: 3, Reynolds Number: 3.00e+06, Relative roughness: 0.0008.\n",
      "# 2 - Friction factor: 0.011448, Iterations: 4, Reynolds Number: 3.00e+06, Relative roughness: 5e-05.\n",
      "# 3 - Friction factor: 0.008433, Iterations: 3, Reynolds Number: 3.00e+07, Relative roughness: 1e-05.\n",
      "# 4 - Friction factor: 0.023405, Iterations: 2, Reynolds Number: 3.00e+07, Relative roughness: 0.002.\n",
      "# 5 - Friction factor: 0.04365, Iterations: 2, Reynolds Number: 3.00e+07, Relative roughness: 0.015.\n",
      "# 6 - Friction factor: 0.024002, Iterations: 3, Reynolds Number: 3.00e+05, Relative roughness: 0.002.\n",
      "# 7 - Friction factor: 0.057222, Iterations: 2, Reynolds Number: 3.00e+05, Relative roughness: 0.03.\n",
      "# 8 - Friction factor: 0.028069, Iterations: 4, Reynolds Number: 3.00e+04, Relative roughness: 0.002.\n",
      "# 9 - Friction factor: 0.039785, Iterations: 3, Reynolds Number: 3.00e+04, Relative roughness: 0.01.\n",
      "# 10 - Friction factor: 0.01445, Iterations: 5, Reynolds Number: 3.00e+05, Relative roughness: 1e-09.\n",
      "# 11 - Friction factor: 0.100301, Iterations: 7, Reynolds Number: 3.00e+02, Relative roughness: 1e-09.\n"
     ]
    }
   ],
   "source": [
    "R_list_NR = np.array([3e6, 3e6, 3e7, 3e7, 3e7, 3e5, 3e5, 3e4, 3e4, 3e5, 3e2])\n",
    "ed_list_NR = np.array([0.0008, .00005, .00001,.002,.015, .002, .03, .002, .01, 10e-10, 10e-10])\n",
    "point = 0\n",
    "\n",
    "for i, j in np.nditer([R_list_NR, ed_list_NR]):\n",
    "    ea = 1\n",
    "    tolerance = 10e-2\n",
    "    count = 0\n",
    "    max_iter = 10000\n",
    "    f0 = 0.05\n",
    "    while ea > tolerance:\n",
    "        count = count+1\n",
    "        def fixedpoint(x):\n",
    "            return (-0.869*math.log(j/3.7 +2.51/(i*x**(1/2))))**(-2)\n",
    "        f_new = fixedpoint(f0)\n",
    "        ea = abs((f_new-f0)/f_new)*100\n",
    "        f0 = f_new\n",
    "    point = point + 1\n",
    "    string2 = '# {} - Friction factor: {}, Iterations: {}, Reynolds Number: {:.2e}, Relative roughness: {}.'.format(point, round(f_new,6), count, i,j)\n",
    "    print(string2)\n",
    "\n",
    "\n"
   ]
  },
  {
   "cell_type": "markdown",
   "metadata": {},
   "source": [
    "## 3.4 Swammee and Jain, Haaland"
   ]
  },
  {
   "cell_type": "code",
   "execution_count": 4,
   "metadata": {},
   "outputs": [
    {
     "name": "stdout",
     "output_type": "stream",
     "text": [
      "# 1 - Swammee and Jain f: 0.01878, Haaland f: 0.01909, Reynolds Number: 3.00e+06, Relative roughness: 0.0008.\n",
      "# 2 - Swammee and Jain f: 0.01153, Haaland f: 0.01153, Reynolds Number: 3.00e+06, Relative roughness: 5e-05.\n",
      "# 3 - Swammee and Jain f: 0.0085, Haaland f: 0.00855, Reynolds Number: 3.00e+07, Relative roughness: 1e-05.\n",
      "# 4 - Swammee and Jain f: 0.02343, Haaland f: 0.0239, Reynolds Number: 3.00e+07, Relative roughness: 0.002.\n",
      "# 5 - Swammee and Jain f: 0.04369, Haaland f: 0.04458, Reynolds Number: 3.00e+07, Relative roughness: 0.015.\n",
      "# 6 - Swammee and Jain f: 0.02417, Haaland f: 0.0244, Reynolds Number: 3.00e+05, Relative roughness: 0.002.\n",
      "# 7 - Swammee and Jain f: 0.05737, Haaland f: 0.05844, Reynolds Number: 3.00e+05, Relative roughness: 0.03.\n",
      "# 8 - Swammee and Jain f: 0.0284, Haaland f: 0.02809, Reynolds Number: 3.00e+04, Relative roughness: 0.002.\n",
      "# 9 - Swammee and Jain f: 0.04034, Haaland f: 0.04043, Reynolds Number: 3.00e+04, Relative roughness: 0.01.\n",
      "# 10 - Swammee and Jain f: 0.01438, Haaland f: 0.01435, Reynolds Number: 3.00e+05, Relative roughness: 1e-10.\n",
      "# 11 - Swammee and Jain f: 0.11585, Haaland f: 0.115, Reynolds Number: 3.00e+02, Relative roughness: 1e-10.\n"
     ]
    }
   ],
   "source": [
    "R_list_NR = np.array([3e6, 3e6, 3e7, 3e7, 3e7, 3e5, 3e5, 3e4, 3e4, 3e5, 3e2])\n",
    "ed_list_NR = np.array([0.0008, .00005, .00001,.002,.015, .002, .03, .002, .01, 1e-10, 1e-10])\n",
    "point = 0\n",
    "\n",
    "for i, j in np.nditer([R_list_NR, ed_list_NR]):\n",
    "    def swmjain(x,y):\n",
    "        return 0.25/(-math.log10(y/3.7 + (5.76/x**(0.9))))**2\n",
    "    def haaland(x,y):\n",
    "        return (1.8*math.log10((y/3.7)**(1.1)+(6.9/x)))**-2\n",
    "    sj = swmjain(i,j)\n",
    "    h = haaland(i,j)\n",
    "    point = point + 1\n",
    "    explicit = '# {} - Swammee and Jain f: {}, Haaland f: {}, Reynolds Number: {:.2e}, Relative roughness: {}.'.format(point, round(sj,5), round(h, 5), i,j)\n",
    "    print(explicit)\n"
   ]
  },
  {
   "cell_type": "markdown",
   "metadata": {},
   "source": [
    " ## 3.5 Newton Raphson Method"
   ]
  },
  {
   "cell_type": "code",
   "execution_count": 5,
   "metadata": {},
   "outputs": [
    {
     "name": "stdout",
     "output_type": "stream",
     "text": [
      "Newton Raphson method has converged. Iteration count: 3, Final value: 0.0188.\n"
     ]
    }
   ],
   "source": [
    "tolerance = 10e-2\n",
    "rr = 0.0008\n",
    "Re = 3e6\n",
    "f_old = 0.05\n",
    "x_old = f_old**(-1/2)\n",
    "error = 1\n",
    "\n",
    "iteration_count = 0\n",
    "# While loop\n",
    "while error>tolerance:\n",
    "    f_x = x_old + (0.869*math.log((rr/3.7)+((2.51*x_old)/Re)))\n",
    "    dfdx = 1 + (0.869*((2.51/Re)/((rr/3.7+((2.51*x_old)/Re)))))\n",
    "    x_new = (x_old - f_x)/dfdx\n",
    "    f_new = x_new**-2\n",
    "    f_old = x_old**-2\n",
    "    error = abs((f_new-f_old)/f_new)*100\n",
    "    iteration_count = iteration_count + 1\n",
    "    x_old=x_new\n",
    "\n",
    "Ans=x_new**-2\n",
    "string = 'Newton Raphson method has converged. Iteration count: {}, Final value: {}.' .format(iteration_count, round(Ans,4))\n",
    "print(string)\n"
   ]
  },
  {
   "cell_type": "code",
   "execution_count": 6,
   "metadata": {},
   "outputs": [
    {
     "name": "stdout",
     "output_type": "stream",
     "text": [
      "# 1 - Friction factor: 0.01884, Iterations: 3, Reynolds Number: 3.00e+06, Relative roughness: 0.0008.\n",
      "# 2 - Friction factor: 0.01222, Iterations: 3, Reynolds Number: 3.00e+06, Relative roughness: 5e-05.\n",
      "# 3 - Friction factor: 0.00877, Iterations: 3, Reynolds Number: 3.00e+07, Relative roughness: 1e-05.\n",
      "# 4 - Friction factor: 0.02341, Iterations: 2, Reynolds Number: 3.00e+07, Relative roughness: 0.002.\n",
      "# 5 - Friction factor: 0.04365, Iterations: 2, Reynolds Number: 3.00e+07, Relative roughness: 0.015.\n",
      "# 6 - Friction factor: 0.02459, Iterations: 3, Reynolds Number: 3.00e+05, Relative roughness: 0.002.\n",
      "# 7 - Friction factor: 0.05732, Iterations: 2, Reynolds Number: 3.00e+05, Relative roughness: 0.03.\n",
      "# 8 - Friction factor: 0.03197, Iterations: 3, Reynolds Number: 3.00e+04, Relative roughness: 0.002.\n",
      "# 9 - Friction factor: 0.04162, Iterations: 3, Reynolds Number: 3.00e+04, Relative roughness: 0.01.\n",
      "# 10 - Friction factor: 0.01761, Iterations: 3, Reynolds Number: 3.00e+05, Relative roughness: 1e-09.\n",
      "# 11 - Friction factor: 0.1608, Iterations: 3, Reynolds Number: 3.00e+02, Relative roughness: 1e-09.\n"
     ]
    }
   ],
   "source": [
    "R_list_NR = np.array([3e6, 3e6, 3e7, 3e7, 3e7, 3e5, 3e5, 3e4, 3e4, 3e5, 3e2])\n",
    "ed_list_NR = np.array([0.0008, .00005, .00001,.002,.015, .002, .03, .002, .01, 10e-10, 10e-10])\n",
    "point = 0\n",
    "\n",
    "for i, j in np.nditer([R_list_NR, ed_list_NR]):\n",
    "    error = 1\n",
    "    tolerance = 10e-2\n",
    "    count = 0\n",
    "    max_iter = 10000\n",
    "    f_old = 0.05\n",
    "    x_old = f_old**(-1/2)\n",
    "    while error > tolerance:\n",
    "        count = count+1\n",
    "        def nr(x):\n",
    "            return (0.869*math.log((j/3.7) +(2.51*x)/i))\n",
    "        def dfdx(y):\n",
    "            return 1 + (0.869*((2.51/i)/((j/3.7+((2.51*x_old)/i)))))\n",
    "        f_x = x_old + nr(x_old)\n",
    "        fprime = dfdx(x_old)\n",
    "        x_new = (x_old-f_x)/fprime\n",
    "        f_new = x_new**-2\n",
    "        f_old = x_old**-2\n",
    "        error = abs((f_new-f_old)/f_new)*100\n",
    "        x_old = x_new\n",
    "    point = point + 1\n",
    "    ans = x_new**-2\n",
    "    string2 = '# {} - Friction factor: {}, Iterations: {}, Reynolds Number: {:.2e}, Relative roughness: {}.'.format(point, round(ans,5), count, i,j)\n",
    "    print(string2)\n"
   ]
  },
  {
   "cell_type": "markdown",
   "metadata": {},
   "source": [
    "## 4. Fixed Point Method\n",
    "Coupled Bernoulli and Colebrook-White equation."
   ]
  },
  {
   "cell_type": "code",
   "execution_count": 7,
   "metadata": {},
   "outputs": [
    {
     "name": "stdout",
     "output_type": "stream",
     "text": [
      "INITIAL VALUES: v = 5, f=0.002\n",
      "ITERATION COUNT = 1. Velocity = v = 15.3362, friction factor = f = 0.0261,R = 2.30e+05, eaf = 92.3337. eav = 67.3975.\n",
      "ITERATION COUNT = 2. Velocity = v = 4.2463, friction factor = f = 0.0163,R = 6.37e+04, eaf = 59.9483. eav = 261.1672.\n",
      "ITERATION COUNT = 3. Velocity = v = 5.3703, friction factor = f = 0.0211,R = 8.06e+04, eaf = 22.7703. eav = 20.9303.\n",
      "ITERATION COUNT = 4. Velocity = v = 4.7195, friction factor = f = 0.0196,R = 7.08e+04, eaf = 7.7335. eav = 13.791.\n",
      "ITERATION COUNT = 5. Velocity = v = 4.8986, friction factor = f = 0.0203,R = 7.35e+04, eaf = 3.2585. eav = 3.656.\n",
      "ITERATION COUNT = 6. Velocity = v = 4.8181, friction factor = f = 0.02,R = 7.23e+04, eaf = 1.0943. eav = 1.6702.\n",
      "ITERATION COUNT = 7. Velocity = v = 4.8444, friction factor = f = 0.0201,R = 7.27e+04, eaf = 0.4421. eav = 0.5427.\n",
      "ITERATION COUNT = 8. Velocity = v = 4.8337, friction factor = f = 0.0201,R = 7.25e+04, eaf = 0.1546. eav = 0.2218.\n",
      "ITERATION COUNT = 9. Velocity = v = 4.8374, friction factor = f = 0.0201,R = 7.26e+04, eaf = 0.0602. eav = 0.0772.\n",
      "ITERATION COUNT = 10. Velocity = v = 4.8359, friction factor = f = 0.0201,R = 7.25e+04, eaf = 0.0217. eav = 0.0301.\n",
      "ITERATION COUNT = 11. Velocity = v = 4.8365, friction factor = f = 0.0201,R = 7.25e+04, eaf = 0.0083. eav = 0.0108.\n",
      "ITERATION COUNT = 12. Velocity = v = 4.8363, friction factor = f = 0.0201,R = 7.25e+04, eaf = 0.003. eav = 0.0041.\n",
      "ITERATION COUNT = 13. Velocity = v = 4.8363, friction factor = f = 0.0201,R = 7.25e+04, eaf = 0.0011. eav = 0.0015.\n",
      "ITERATION COUNT = 14. Velocity = v = 4.8363, friction factor = f = 0.0201,R = 7.25e+04, eaf = 0.0004. eav = 0.0006.\n",
      "ITERATION COUNT = 15. Velocity = v = 4.8363, friction factor = f = 0.0201,R = 7.25e+04, eaf = 0.0002. eav = 0.0002.\n",
      "ITERATION COUNT = 16. Velocity = v = 4.8363, friction factor = f = 0.0201,R = 7.25e+04, eaf = 0.0001. eav = 0.0001.\n",
      "FIXED POINT METHOD CONVERGED. Iterations: = 16, Velocity = 4.8363, friction factor = 0.0201. Reynolds number = 7.25e+04.\n"
     ]
    }
   ],
   "source": [
    "rr = 0.0002\n",
    "kv = 2e-5\n",
    "D = 0.3\n",
    "h_f = 8\n",
    "L = 100\n",
    "grav = 9.8\n",
    "tol = 10**(-4)\n",
    "v_guess = 5\n",
    "fg = 0.002\n",
    "iter = 0\n",
    "eav = 1\n",
    "eaf = 1\n",
    "x0 = (1/fg)**0.5\n",
    "\n",
    "string_init = 'INITIAL VALUES: v = {}, f={}' \\\n",
    ".format(round(v_guess,4), round(fg,4))\n",
    "print(string_init)\n",
    "def velocity(a):\n",
    "    return (h_f*D*2*grav/(a*L))**0.5\n",
    "def fcw(b,c):\n",
    "    return (-2*math.log10((rr/3.7)+2.51*kv/(b*D*c**0.5)))**-2 # math library was loaded on another cell in Jupyter NB\n",
    "\n",
    "while eaf > tol and eav > tol:\n",
    "    iter = iter + 1\n",
    "    vel = velocity(fg)\n",
    "    f_cw = fcw(v_guess, fg)\n",
    "    eav = (abs((vel-v_guess)/vel)*100)\n",
    "    eaf = (abs((f_cw-fg)/f_cw)*100)\n",
    "    v_guess = vel\n",
    "    fg = f_cw\n",
    "    R_new = (v_guess*D/kv)\n",
    "    R = R_new\n",
    "    string_iter = 'ITERATION COUNT = {}. Velocity = v = {}, friction factor = f = {},R = {:.2e}, eaf = {}. eav = {}.' \\\n",
    "    .format(iter, round(v_guess,4), round(fg,4), R, round(eaf, 4), round(eav, 4))\n",
    "    print(string_iter)\n",
    "    \n",
    "string3 = 'FIXED POINT METHOD CONVERGED. Iterations: = {}, Velocity = {}, friction factor = {}. Reynolds number = {:.2e}.'\\\n",
    ".format(iter, round(v_guess,4),round(fg,4), R)\n",
    "print(string3)\n",
    "\n",
    "\n"
   ]
  },
  {
   "cell_type": "code",
   "execution_count": null,
   "metadata": {},
   "outputs": [],
   "source": []
  }
 ],
 "metadata": {
  "kernelspec": {
   "display_name": "Python 3",
   "language": "python",
   "name": "python3"
  },
  "language_info": {
   "codemirror_mode": {
    "name": "ipython",
    "version": 3
   },
   "file_extension": ".py",
   "mimetype": "text/x-python",
   "name": "python",
   "nbconvert_exporter": "python",
   "pygments_lexer": "ipython3",
   "version": "3.7.4"
  }
 },
 "nbformat": 4,
 "nbformat_minor": 2
}
