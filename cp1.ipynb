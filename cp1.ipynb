{
 "cells": [
  {
   "cell_type": "markdown",
   "metadata": {},
   "source": [
    "# ECI 146 CP 1 Python Code Examples"
   ]
  },
  {
   "cell_type": "code",
   "execution_count": 25,
   "metadata": {},
   "outputs": [],
   "source": [
    "# Some libraries we add for more python features\n",
    "import math\n",
    "import numpy as np"
   ]
  },
  {
   "cell_type": "markdown",
   "metadata": {},
   "source": [
    " ## Newton Raphson Method"
   ]
  },
  {
   "cell_type": "code",
   "execution_count": 26,
   "metadata": {},
   "outputs": [
    {
     "name": "stdout",
     "output_type": "stream",
     "text": [
      "Newton Raphson method has converged. The number of iterations are 5 and the final value of X is 0.894.\n"
     ]
    }
   ],
   "source": [
    "tolerance = 0.001\n",
    "x_initial = 0.5\n",
    "x_old = x_initial\n",
    "error = 1\n",
    "\n",
    "iteration_count = 0\n",
    "# While loop\n",
    "while error>tolerance:\n",
    "\tf_x = 5*x_old**2-4\n",
    "\tf_prim_x=10*x_old\n",
    "\tx_new = x_old - f_x/f_prim_x\n",
    "\terror = abs((x_old-x_new)/x_new)*100\n",
    "\titeration_count = iteration_count + 1\n",
    "\tx_old=x_new\n",
    "\n",
    "X=x_new\n",
    "string = 'Newton Raphson method has converged. The number of iterations are {} and the final value of X is {}.' .format(iteration_count, round(X,3))\n",
    "print(string)\n"
   ]
  },
  {
   "cell_type": "markdown",
   "metadata": {},
   "source": [
    "# Bisection Method"
   ]
  },
  {
   "cell_type": "code",
   "execution_count": 27,
   "metadata": {},
   "outputs": [
    {
     "name": "stdout",
     "output_type": "stream",
     "text": [
      "Friction factor is x = 0.0186 and it took 0 iterations for Reynolds Number of 3.00e+06 and relative roughness of 0.0008.\n"
     ]
    }
   ],
   "source": [
    "\n",
    "tolerance = 10**(-2)\n",
    "max_iter = 10000\n",
    "xa = 0.01\n",
    "xc = 0.1\n",
    "R=3e6\n",
    "rr = 0.0008\n",
    "iter = 0\n",
    "\n",
    "def bisection_method(x):\n",
    "    return 1+math.sqrt(x)*0.869*math.log(((rr)*(1/3.7))+2.51/R*math.sqrt(x))\n",
    "    \n",
    "Fxa = bisection_method(xa)\n",
    "Fxc = bisection_method(xc)\n",
    "\n",
    "if (Fxa*Fxc) > 0:\n",
    "    print('Error. The function has the same sign at a and b.')\n",
    "else:\n",
    "    while ea > tolerance:\n",
    "        iter = iter + 1\n",
    "        xb = (xa+xc)/2\n",
    "        Fxb = bisection_method(xb)\n",
    "\n",
    "        if Fxa*Fxb < 0:\n",
    "            xold = xa\n",
    "            xc = xb\n",
    "\n",
    "        else:\n",
    "            xold = xa\n",
    "            xa = xb\n",
    "\n",
    "        ea = abs((xb-xold)/xb)*100\n",
    "\n",
    "string2 = 'Friction factor is x = {} and it took {} iterations for Reynolds Number of {:.2e} and relative roughness of {}.'.format(round(xb,4), iter, R,rr)\n",
    "print(string2)"
   ]
  },
  {
   "cell_type": "markdown",
   "metadata": {},
   "source": [
    "# Fixed Point Method"
   ]
  },
  {
   "cell_type": "code",
   "execution_count": 28,
   "metadata": {},
   "outputs": [
    {
     "name": "stdout",
     "output_type": "stream",
     "text": [
      "INITIAL VALUES: v = 500, f=20\n",
      "ITERATION COUNT = 1. Velocity = v = 0.1534, friction factor = f = 0.0137,R = 2.30e+03, eaf = 145529.0177. eav = 325925.3318.\n",
      "ITERATION COUNT = 2. Velocity = v = 5.8525, friction factor = f = 0.0608,R = 8.78e+04, eaf = 77.3954. eav = 97.3795.\n",
      "ITERATION COUNT = 3. Velocity = v = 2.7825, friction factor = f = 0.0176,R = 4.17e+04, eaf = 245.2975. eav = 110.33.\n",
      "ITERATION COUNT = 4. Velocity = v = 5.1706, friction factor = f = 0.023,R = 7.76e+04, eaf = 23.6049. eav = 46.185.\n",
      "ITERATION COUNT = 5. Velocity = v = 4.5193, friction factor = f = 0.0196,R = 6.78e+04, eaf = 17.6119. eav = 14.4108.\n",
      "ITERATION COUNT = 6. Velocity = v = 4.9011, friction factor = f = 0.0204,R = 7.35e+04, eaf = 4.2257. eav = 7.7908.\n",
      "ITERATION COUNT = 7. Velocity = v = 4.7965, friction factor = f = 0.02,R = 7.19e+04, eaf = 2.1104. eav = 2.1823.\n",
      "ITERATION COUNT = 8. Velocity = v = 4.8468, friction factor = f = 0.0202,R = 7.27e+04, eaf = 0.6429. eav = 1.0388.\n",
      "ITERATION COUNT = 9. Velocity = v = 4.8312, friction factor = f = 0.0201,R = 7.25e+04, eaf = 0.2763. eav = 0.323.\n",
      "ITERATION COUNT = 10. Velocity = v = 4.8379, friction factor = f = 0.0201,R = 7.26e+04, eaf = 0.0928. eav = 0.1379.\n",
      "ITERATION COUNT = 11. Velocity = v = 4.8356, friction factor = f = 0.0201,R = 7.25e+04, eaf = 0.0372. eav = 0.0464.\n",
      "ITERATION COUNT = 12. Velocity = v = 4.8365, friction factor = f = 0.0201,R = 7.25e+04, eaf = 0.0131. eav = 0.0186.\n",
      "ITERATION COUNT = 13. Velocity = v = 4.8362, friction factor = f = 0.0201,R = 7.25e+04, eaf = 0.0051. eav = 0.0066.\n",
      "ITERATION COUNT = 14. Velocity = v = 4.8363, friction factor = f = 0.0201,R = 7.25e+04, eaf = 0.0018. eav = 0.0025.\n",
      "ITERATION COUNT = 15. Velocity = v = 4.8363, friction factor = f = 0.0201,R = 7.25e+04, eaf = 0.0007. eav = 0.0009.\n",
      "ITERATION COUNT = 16. Velocity = v = 4.8363, friction factor = f = 0.0201,R = 7.25e+04, eaf = 0.0003. eav = 0.0003.\n",
      "ITERATION COUNT = 17. Velocity = v = 4.8363, friction factor = f = 0.0201,R = 7.25e+04, eaf = 0.0001. eav = 0.0001.\n",
      "FIXED POINT METHOD CONVERGED. Velocity is v = 4.8363 and friction factor is f = 0.0201. Reynolds number is R = 7.25e+04. It took 17 iterations.\n"
     ]
    }
   ],
   "source": [
    "rr = 0.0002\n",
    "kv = 2e-5\n",
    "D = 0.3\n",
    "h_f = 8\n",
    "L = 100\n",
    "grav = 9.8\n",
    "tol = 10**(-4)\n",
    "v_guess = 500\n",
    "fg = 20\n",
    "iter = 0\n",
    "eav = 1\n",
    "eaf = 1\n",
    "x0 = (1/fg)**0.5\n",
    "\n",
    "string_init = 'INITIAL VALUES: v = {}, f={}' \\\n",
    ".format(round(v_guess,4), round(fg,4))\n",
    "print(string_init)\n",
    "def velocity(a):\n",
    "    return (h_f*D*2*grav/(a*L))**0.5\n",
    "def fcw(b,c):\n",
    "    return (-2*math.log10((rr/3.7)+2.51*kv/(b*D*c**0.5)))**-2 # math library was loaded on another cell in Jupyter NB\n",
    "\n",
    "while eaf > tol and eav > tol:\n",
    "    iter = iter + 1\n",
    "    vel = velocity(fg)\n",
    "    f_cw = fcw(v_guess, fg)\n",
    "    eav = (abs((vel-v_guess)/vel)*100)\n",
    "    eaf = (abs((f_cw-fg)/f_cw)*100)\n",
    "    v_guess = vel\n",
    "    fg = f_cw\n",
    "    R_new = (v_guess*D/kv)\n",
    "    R = R_new\n",
    "    string_iter = 'ITERATION COUNT = {}. Velocity = v = {}, friction factor = f = {},R = {:.2e}, eaf = {}. eav = {}.' \\\n",
    "    .format(iter, round(v_guess,4), round(fg,4), R, round(eaf, 4), round(eav, 4))\n",
    "    print(string_iter)\n",
    "    \n",
    "string3 = 'FIXED POINT METHOD CONVERGED. Velocity is v = {} and friction factor is f = {}. Reynolds number is R = {:.2e}. It took {} iterations.'\\\n",
    ".format(round(v_guess,4),round(fg,4), R, iter)\n",
    "print(string3)\n"
   ]
  },
  {
   "cell_type": "code",
   "execution_count": null,
   "metadata": {},
   "outputs": [],
   "source": []
  },
  {
   "cell_type": "code",
   "execution_count": null,
   "metadata": {},
   "outputs": [],
   "source": []
  }
 ],
 "metadata": {
  "kernelspec": {
   "display_name": "Python 3",
   "language": "python",
   "name": "python3"
  },
  "language_info": {
   "codemirror_mode": {
    "name": "ipython",
    "version": 3
   },
   "file_extension": ".py",
   "mimetype": "text/x-python",
   "name": "python",
   "nbconvert_exporter": "python",
   "pygments_lexer": "ipython3",
   "version": "3.7.4"
  }
 },
 "nbformat": 4,
 "nbformat_minor": 2
}
